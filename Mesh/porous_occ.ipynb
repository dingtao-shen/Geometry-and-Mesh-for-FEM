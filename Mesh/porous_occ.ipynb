{
 "cells": [
  {
   "cell_type": "code",
   "execution_count": 1,
   "metadata": {},
   "outputs": [],
   "source": [
    "import gmsh\n",
    "import numpy as np"
   ]
  },
  {
   "cell_type": "code",
   "execution_count": 2,
   "metadata": {},
   "outputs": [
    {
     "name": "stdout",
     "output_type": "stream",
     "text": [
      "Info    : Reconstructing periodicity for curve connection 7 - 3                                                                      \n",
      "Info    : Meshing 1D...\n",
      "Info    : [  0%] Meshing curve 1 (Ellipse)\n",
      "Info    : [ 10%] Meshing curve 2 (Line)\n",
      "Info    : [ 20%] Meshing curve 3 (Line)\n",
      "Info    : [ 30%] Meshing curve 4 (Line)\n",
      "Info    : [ 40%] Meshing curve 5 (Ellipse)\n",
      "Info    : [ 50%] Meshing curve 6 (Line)\n",
      "Info    : [ 60%] Meshing curve 7 (Line) as a copy of curve 3\n",
      "Info    : [ 70%] Meshing curve 8 (Line)\n",
      "Info    : [ 80%] Meshing curve 9 (Ellipse)\n",
      "Info    : [ 90%] Meshing curve 10 (Ellipse)\n",
      "Info    : [100%] Meshing curve 11 (Ellipse)\n",
      "Info    : Done meshing 1D (Wall 0.000453994s, CPU 0.000185s)\n",
      "Info    : Meshing 2D...\n",
      "Info    : Meshing surface 7 (Plane, Frontal-Delaunay)\n",
      "Info    : Done meshing 2D (Wall 0.00200728s, CPU 0.00064s)\n",
      "Info    : Reconstructing periodicity for curve connection 7 - 3\n",
      "Info    : 173 nodes 361 elements\n",
      "Info    : Writing 'ASCIIV4/Porous/porous2.msh'...\n",
      "Info    : Done writing 'ASCIIV4/Porous/porous2.msh'\n",
      "-------------------------------------------------------\n",
      "Version       : 4.13.1\n",
      "License       : GNU General Public License\n",
      "Build OS      : Linux64-sdk\n",
      "Build date    : 20240524\n",
      "Build host    : gmsh.info\n",
      "Build options : 64Bit ALGLIB[contrib] ANN[contrib] Bamg Blas[petsc] Blossom Cgns DIntegration Dlopen DomHex Eigen[contrib] Fltk Gmm[contrib] Hxt Jpeg Kbipack Lapack[petsc] LinuxJoystick MathEx[contrib] Med Mesh Metis[contrib] Mmg Mpeg Netgen Nii2mesh ONELAB ONELABMetamodel OpenCASCADE OpenCASCADE-CAF OpenGL OpenMP OptHom PETSc Parser Plugins Png Post QuadMeshingTools QuadTri Solver TetGen/BR TinyXML2[contrib] Untangle Voro++[contrib] WinslowUntangler Zlib\n",
      "FLTK version  : 1.4.0\n",
      "PETSc version : 3.14.4 (real arithmtic)\n",
      "OCC version   : 7.7.2\n",
      "MED version   : 4.1.0\n",
      "Packaged by   : geuzaine\n",
      "Web site      : https://gmsh.info\n",
      "Issue tracker : https://gitlab.onelab.info/gmsh/gmsh/issues\n",
      "-------------------------------------------------------\n"
     ]
    }
   ],
   "source": [
    "r = np.sqrt(5) / 10\n",
    "mesh_size = 0.2\n",
    "\n",
    "porous = \"ASCIIV4/Porous/porous_02.msh\"\n",
    "gmsh.initialize()\n",
    "gmsh.model.add(porous)\n",
    "\n",
    "gmsh.model.occ.addRectangle(-1, -1, 0, 2, 2, 1)\n",
    "\n",
    "gmsh.model.occ.addDisk(-0.5, 0.5, 0, r, r, 2)\n",
    "gmsh.model.occ.addDisk(-0.5, -0.5, 0, r, r, 3)\n",
    "gmsh.model.occ.addDisk(0.5, 0.0, 0, r, r, 4)\n",
    "gmsh.model.occ.addDisk(0.5, 1.0, 0, r, r, 5)\n",
    "gmsh.model.occ.addDisk(0.5, -1.0, 0, r, r, 6)\n",
    "\n",
    "gmsh.model.occ.cut([(2,1)],[(2, 2), (2, 3), (2, 4), (2,5), (2,6)], 7)\n",
    "\n",
    "gmsh.model.occ.synchronize()\n",
    "\n",
    "translation = [1, 0, 0, 2, 0, 1, 0, 0, 0, 0, 1, 0, 0, 0, 0, 1]\n",
    "gmsh.model.mesh.setPeriodic(1, [7], [3], translation)\n",
    "\n",
    "gmsh.model.mesh.setSize(gmsh.model.getEntities(0), mesh_size)\n",
    "\n",
    "# # local refinement\n",
    "# ov = gmsh.model.getEntitiesInBoundingBox(-0.5 - r, -0.5 - r, 0, - 0.5 + r, - 0.5 + r, 0, 0)\n",
    "# gmsh.model.mesh.setSize(ov, 0.01)\n",
    "\n",
    "gmsh.model.mesh.generate(2)\n",
    "\n",
    "# masterTag, nodeTags, nodeMasterTags, tfo = gmsh.model.mesh.getPeriodicNodes(1, 7, includeHighOrderNodes=False)\n",
    "# print(masterTag, nodeTags, nodeMasterTags, tfo)\n",
    "\n",
    "gmsh.write(porous)\n",
    "gmsh.fltk.run()\n",
    "gmsh.finalize()"
   ]
  },
  {
   "cell_type": "code",
   "execution_count": 10,
   "metadata": {},
   "outputs": [
    {
     "name": "stdout",
     "output_type": "stream",
     "text": [
      "[40 43 42  8 48 45 47 44 46  7 41] [29 26 27  3 21 24 22 25 23  4 28]\n"
     ]
    }
   ],
   "source": [
    "print(nodeTags, nodeMasterTags)"
   ]
  }
 ],
 "metadata": {
  "kernelspec": {
   "display_name": "Python 3",
   "language": "python",
   "name": "python3"
  },
  "language_info": {
   "codemirror_mode": {
    "name": "ipython",
    "version": 3
   },
   "file_extension": ".py",
   "mimetype": "text/x-python",
   "name": "python",
   "nbconvert_exporter": "python",
   "pygments_lexer": "ipython3",
   "version": "3.10.12"
  }
 },
 "nbformat": 4,
 "nbformat_minor": 2
}
